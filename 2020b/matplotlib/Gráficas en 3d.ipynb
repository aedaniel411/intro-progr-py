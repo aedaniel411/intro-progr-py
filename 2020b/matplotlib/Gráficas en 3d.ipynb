{
 "cells": [
  {
   "cell_type": "markdown",
   "metadata": {},
   "source": [
    "# Ejemplo 1 - Ejes"
   ]
  },
  {
   "cell_type": "code",
   "execution_count": 2,
   "metadata": {},
   "outputs": [],
   "source": [
    "%matplotlib widget"
   ]
  },
  {
   "cell_type": "code",
   "execution_count": 3,
   "metadata": {},
   "outputs": [
    {
     "data": {
      "application/vnd.jupyter.widget-view+json": {
       "model_id": "c9c1543850e54e7b822b691b22d8725d",
       "version_major": 2,
       "version_minor": 0
      },
      "text/plain": [
       "Canvas(toolbar=Toolbar(toolitems=[('Home', 'Reset original view', 'home', 'home'), ('Back', 'Back to previous …"
      ]
     },
     "metadata": {},
     "output_type": "display_data"
    }
   ],
   "source": [
    "# importar modulos\n",
    "from mpl_toolkits import mplot3d\n",
    "import matplotlib.pyplot as plt\n",
    "import numpy as np\n",
    "\n",
    "# Definir ejes 3d\n",
    "plt.figure(10)\n",
    "plt.axes(projection=\"3d\")\n",
    "\n",
    "# Mostrar gráfica\n",
    "plt.show()"
   ]
  },
  {
   "cell_type": "markdown",
   "metadata": {},
   "source": [
    "# Ejemplo 2 - lineas y puntos\n",
    "Gráfica de un resorte en 3d\n",
    "\n",
    "Donde:\n",
    "$$\\begin{align*} \n",
    "x(t) &= sin(t) \\\\\n",
    "y(t) &= cos(t) \\\\\n",
    "z(t) &= t\n",
    "\\end{align*}$$"
   ]
  },
  {
   "cell_type": "code",
   "execution_count": 4,
   "metadata": {},
   "outputs": [
    {
     "data": {
      "application/vnd.jupyter.widget-view+json": {
       "model_id": "108edcf2889c41b285cc9e49e75cd679",
       "version_major": 2,
       "version_minor": 0
      },
      "text/plain": [
       "Canvas(toolbar=Toolbar(toolitems=[('Home', 'Reset original view', 'home', 'home'), ('Back', 'Back to previous …"
      ]
     },
     "metadata": {},
     "output_type": "display_data"
    }
   ],
   "source": [
    "# Definir datos\n",
    "t = np.linspace(0, 20, 100)\n",
    "x = np.sin(t)\n",
    "y = np.cos(t)\n",
    "z = t\n",
    "\n",
    "# Definir ejes 3d y gráfica\n",
    "plt.figure(20)\n",
    "ax = plt.axes(projection=\"3d\")\n",
    "ax.plot3D(x,y,z, 'b')\n",
    "\n",
    "# Mostrar gráfica\n",
    "plt.show()"
   ]
  },
  {
   "cell_type": "code",
   "execution_count": 5,
   "metadata": {},
   "outputs": [
    {
     "data": {
      "application/vnd.jupyter.widget-view+json": {
       "model_id": "cf4d529b7992404c881eb06be2c3112a",
       "version_major": 2,
       "version_minor": 0
      },
      "text/plain": [
       "Canvas(toolbar=Toolbar(toolitems=[('Home', 'Reset original view', 'home', 'home'), ('Back', 'Back to previous …"
      ]
     },
     "metadata": {},
     "output_type": "display_data"
    }
   ],
   "source": [
    "# Definir ejes 3d y gráfica\n",
    "plt.figure(21)\n",
    "ax = plt.axes(projection=\"3d\")\n",
    "ax.plot3D(x,y,z, 'b')\n",
    "ax.scatter3D(x,y,z, color='red')\n",
    "\n",
    "# Mostrar gráfica\n",
    "plt.show()"
   ]
  },
  {
   "cell_type": "markdown",
   "metadata": {},
   "source": [
    "# Ejemplo 3 - Malla \n",
    "$$ f(x,y) = x^2 + y^2 - 4 $$ "
   ]
  },
  {
   "cell_type": "code",
   "execution_count": 6,
   "metadata": {},
   "outputs": [
    {
     "data": {
      "application/vnd.jupyter.widget-view+json": {
       "model_id": "22c1f0ad3e504a0da7589d59a8f8aa04",
       "version_major": 2,
       "version_minor": 0
      },
      "text/plain": [
       "Canvas(toolbar=Toolbar(toolitems=[('Home', 'Reset original view', 'home', 'home'), ('Back', 'Back to previous …"
      ]
     },
     "metadata": {},
     "output_type": "display_data"
    }
   ],
   "source": [
    "def f(x,y):\n",
    "    return x**2 + y**2 - 4\n",
    "\n",
    "# Definir Datos\n",
    "x = np.linspace(-5, 5, 20)\n",
    "y = x\n",
    "\n",
    "X,Y = np.meshgrid(x,y) \n",
    "Z = f(X,Y)\n",
    "\n",
    "# Definir gráfica\n",
    "plt.figure(30)\n",
    "ax = plt.axes(projection=\"3d\")\n",
    "ax.plot_wireframe(X,Y,Z)\n",
    "\n",
    "# Mostrar gráfica\n",
    "plt.show()"
   ]
  },
  {
   "cell_type": "code",
   "execution_count": 7,
   "metadata": {},
   "outputs": [
    {
     "data": {
      "application/vnd.jupyter.widget-view+json": {
       "model_id": "16db2ab96c6a4f09a28a99d248725924",
       "version_major": 2,
       "version_minor": 0
      },
      "text/plain": [
       "Canvas(toolbar=Toolbar(toolitems=[('Home', 'Reset original view', 'home', 'home'), ('Back', 'Back to previous …"
      ]
     },
     "metadata": {},
     "output_type": "display_data"
    }
   ],
   "source": [
    "# Definir gráfica\n",
    "plt.figure(31)\n",
    "ax = plt.axes(projection=\"3d\")\n",
    "ax.plot_surface(X,Y,Z, cmap='viridis')\n",
    "\n",
    "# Mostrar gráfica\n",
    "plt.show()"
   ]
  },
  {
   "cell_type": "markdown",
   "metadata": {},
   "source": [
    "# Ejemplo 4 - triangulos"
   ]
  },
  {
   "cell_type": "code",
   "execution_count": 8,
   "metadata": {},
   "outputs": [
    {
     "data": {
      "application/vnd.jupyter.widget-view+json": {
       "model_id": "556e9166bb2b499e931b65cc21622b61",
       "version_major": 2,
       "version_minor": 0
      },
      "text/plain": [
       "Canvas(toolbar=Toolbar(toolitems=[('Home', 'Reset original view', 'home', 'home'), ('Back', 'Back to previous …"
      ]
     },
     "metadata": {},
     "output_type": "display_data"
    }
   ],
   "source": [
    "# Definir Datos\n",
    "x = np.random.uniform(-5,5,20)\n",
    "y = np.random.uniform(-5,5,20)\n",
    "\n",
    "X,Y = np.meshgrid(x,y)\n",
    "Z = f(X,Y)\n",
    "\n",
    "# Definir gráfica\n",
    "plt.figure(40)\n",
    "ax = plt.axes(projection=\"3d\")\n",
    "ax.plot_surface(X,Y,Z)\n",
    "\n",
    "# Mostrar gráfica\n",
    "plt.show()"
   ]
  },
  {
   "cell_type": "code",
   "execution_count": 9,
   "metadata": {},
   "outputs": [
    {
     "data": {
      "application/vnd.jupyter.widget-view+json": {
       "model_id": "914f345aeb1340ed9d9ad88e7a4f5794",
       "version_major": 2,
       "version_minor": 0
      },
      "text/plain": [
       "Canvas(toolbar=Toolbar(toolitems=[('Home', 'Reset original view', 'home', 'home'), ('Back', 'Back to previous …"
      ]
     },
     "metadata": {},
     "output_type": "display_data"
    }
   ],
   "source": [
    "# Definir Datos\n",
    "x = np.random.uniform(-5,5,20)\n",
    "y = np.random.uniform(-5,5,20)\n",
    "z = f(x,y)\n",
    "\n",
    "# Definir gráfica\n",
    "plt.figure(41)\n",
    "ax = plt.axes(projection=\"3d\")\n",
    "ax.plot_trisurf(x,y,z)\n",
    "\n",
    "# Mostrar gráfica\n",
    "plt.show()"
   ]
  },
  {
   "cell_type": "code",
   "execution_count": 10,
   "metadata": {},
   "outputs": [
    {
     "data": {
      "application/vnd.jupyter.widget-view+json": {
       "model_id": "f965772af71845e68d4954be1662b300",
       "version_major": 2,
       "version_minor": 0
      },
      "text/plain": [
       "Canvas(toolbar=Toolbar(toolitems=[('Home', 'Reset original view', 'home', 'home'), ('Back', 'Back to previous …"
      ]
     },
     "metadata": {},
     "output_type": "display_data"
    }
   ],
   "source": [
    "# Definir Datos\n",
    "x = np.random.uniform(-5,5,200)\n",
    "y = np.random.uniform(-5,5,200)\n",
    "z = f(x,y)\n",
    "\n",
    "# Definir gráfica\n",
    "plt.figure(42)\n",
    "ax = plt.axes(projection=\"3d\")\n",
    "ax.plot_trisurf(x,y,z)\n",
    "\n",
    "# Mostrar gráfica\n",
    "plt.show()"
   ]
  },
  {
   "cell_type": "markdown",
   "metadata": {},
   "source": [
    "# Banda de Möbius\n",
    "<img src='imagenes/caminando_moebius-1.gif'>\n",
    "\n",
    "## Definición  matemática\n",
    "$$\\begin{align*} \n",
    "    x(t) &= \\left[ R + s \\cdot cos(\\frac{1}{2}t) \\right] cos(t)\\\\\n",
    "    y(t) &= \\left[ R + s \\cdot cos(\\frac{1}{2}t) \\right] sin(t)\\\\\n",
    "    z(t) &= s \\cdot sin(\\frac{1}{2}t)\n",
    "\\end{align*}$$\n",
    "Donde: \n",
    "\n",
    "R es el radio del medio círculo \n",
    "\n",
    "$s \\in [-w,w]$ donde w es el medio ancho de la banda \n",
    "\n",
    "$t \\in [0,2\\pi]$"
   ]
  },
  {
   "cell_type": "code",
   "execution_count": 11,
   "metadata": {},
   "outputs": [
    {
     "data": {
      "application/vnd.jupyter.widget-view+json": {
       "model_id": "08f51f620c744099bcaabd64df819a0c",
       "version_major": 2,
       "version_minor": 0
      },
      "text/plain": [
       "Canvas(toolbar=Toolbar(toolitems=[('Home', 'Reset original view', 'home', 'home'), ('Back', 'Back to previous …"
      ]
     },
     "metadata": {},
     "output_type": "display_data"
    }
   ],
   "source": [
    "# Definir datos\n",
    "t = np.linspace(0, 2 * np.pi, 25)\n",
    "w = 0.1\n",
    "s = np.linspace(-w,w,10)\n",
    "T,S = np.meshgrid(t,s)\n",
    "R = 0.8\n",
    "\n",
    "''' plot_trisurf usa argumentos de arrelos de dimensión 1, \n",
    "    con np.ravel se convierten arreglos de mas de una dimensión \n",
    "    a una sola dimensión '''\n",
    "\n",
    "x = np.ravel((R+S*np.cos(T/2)) * np.cos(T))\n",
    "y = np.ravel((R+S*np.cos(T/2)) * np.sin(T))\n",
    "z = np.ravel((S*np.sin(T/2)))\n",
    "\n",
    "# Definir gráfica\n",
    "plt.figure(43)\n",
    "ax = plt.axes(projection=\"3d\")\n",
    "ax.plot_trisurf(x,y,z)\n",
    "\n",
    "# Mostrar gráfica\n",
    "plt.show()"
   ]
  },
  {
   "cell_type": "code",
   "execution_count": 12,
   "metadata": {},
   "outputs": [
    {
     "data": {
      "application/vnd.jupyter.widget-view+json": {
       "model_id": "ab7944b0bbd8457face644b38fab4069",
       "version_major": 2,
       "version_minor": 0
      },
      "text/plain": [
       "Canvas(toolbar=Toolbar(toolitems=[('Home', 'Reset original view', 'home', 'home'), ('Back', 'Back to previous …"
      ]
     },
     "metadata": {},
     "output_type": "display_data"
    }
   ],
   "source": [
    "# importar modulo\n",
    "from matplotlib.tri import Triangulation\n",
    "\n",
    "# Definir datos\n",
    "tri = Triangulation(np.ravel(S), np.ravel(T))\n",
    "\n",
    "# Definir gráfica\n",
    "plt.figure(44)\n",
    "ax = plt.axes(projection=\"3d\")\n",
    "ax.plot_trisurf(x,y,z, triangles=tri.triangles)\n",
    "\n",
    "# Mostrar gráfica\n",
    "plt.show()\n",
    "\n"
   ]
  },
  {
   "cell_type": "markdown",
   "metadata": {},
   "source": [
    "# Botella de Klein\n",
    "\n",
    "<img src=\"imagenes/kleinbottle.gif\">"
   ]
  },
  {
   "cell_type": "code",
   "execution_count": 13,
   "metadata": {},
   "outputs": [
    {
     "data": {
      "application/vnd.jupyter.widget-view+json": {
       "model_id": "78dfb56bc2eb4313bef6acf19afb3e7c",
       "version_major": 2,
       "version_minor": 0
      },
      "text/plain": [
       "Canvas(toolbar=Toolbar(toolitems=[('Home', 'Reset original view', 'home', 'home'), ('Back', 'Back to previous …"
      ]
     },
     "metadata": {},
     "output_type": "display_data"
    }
   ],
   "source": [
    "def botella(u, v):\n",
    "    half = (0 <= u) & (u < np.pi)\n",
    "    r = 4*(1 - np.cos(u)/2)\n",
    "    x = 6*np.cos(u)*(1 + np.sin(u)) + r*np.cos(v + np.pi)\n",
    "    x[half] = ((6*np.cos(u)*(1 + np.sin(u)) + r*np.cos(u)*np.cos(v))[half])\n",
    "    y = 16 * np.sin(u)\n",
    "    y[half] = (16*np.sin(u) + r*np.sin(u)*np.cos(v))[half]\n",
    "    z = r * np.sin(v)\n",
    "    return x, y, z\n",
    "\n",
    "u = np.linspace(0, 2*np.pi, 40)\n",
    "v = np.linspace(0, 2*np.pi, 40)\n",
    "\n",
    "ux, vx =  np.meshgrid(u,v)\n",
    "x, y, z = botella(ux, vx)\n",
    "\n",
    "fig = plt.figure(50)\n",
    "ax = plt.axes(projection=\"3d\")\n",
    "\n",
    "ax.plot_surface(x, y, z, rstride = 1, cstride = 1, cmap = plt.get_cmap('jet'),\n",
    "                       linewidth = 0, antialiased = False)\n",
    "\n",
    "plt.show()"
   ]
  },
  {
   "cell_type": "code",
   "execution_count": null,
   "metadata": {},
   "outputs": [],
   "source": []
  }
 ],
 "metadata": {
  "kernelspec": {
   "display_name": "Python 3",
   "language": "python",
   "name": "python3"
  },
  "language_info": {
   "codemirror_mode": {
    "name": "ipython",
    "version": 3
   },
   "file_extension": ".py",
   "mimetype": "text/x-python",
   "name": "python",
   "nbconvert_exporter": "python",
   "pygments_lexer": "ipython3",
   "version": "3.9.0"
  }
 },
 "nbformat": 4,
 "nbformat_minor": 4
}
